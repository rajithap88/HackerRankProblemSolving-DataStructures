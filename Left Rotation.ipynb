{
 "cells": [
  {
   "cell_type": "code",
   "execution_count": null,
   "metadata": {},
   "outputs": [],
   "source": [
    "A left rotation operation on an array of size  shifts each of the array's elements  unit to the left. Given an integer, , rotate the array that many steps left and return the result.\n",
    "\n",
    "Example\n",
    "\n",
    "\n",
    "After  rotations, .\n",
    "\n",
    "Function Description\n",
    "\n",
    "Complete the rotateLeft function in the editor below.\n",
    "\n",
    "rotateLeft has the following parameters:\n",
    "\n",
    "int d: the amount to rotate by\n",
    "int arr[n]: the array to rotate\n",
    "Returns\n",
    "\n",
    "int[n]: the rotated array\n",
    "Input Format\n",
    "\n",
    "The first line contains two space-separated integers that denote , the number of integers, and , the number of left rotations to perform.\n",
    "The second line contains  space-separated integers that describe .\n",
    "\n",
    "Constraints\n",
    "\n",
    "Sample Input\n",
    "\n",
    "5 4\n",
    "1 2 3 4 5\n",
    "Sample Output\n",
    "\n",
    "5 1 2 3 4\n",
    "Explanation\n",
    "\n",
    "To perform  left rotations, the array undergoes the following sequence of changes:\n",
    "\n"
   ]
  },
  {
   "cell_type": "code",
   "execution_count": null,
   "metadata": {},
   "outputs": [],
   "source": [
    "\n",
    "n, d = list(map(int, input().split()))#n is the rotal array elements,d is the amount of rotation\n",
    "numbers = list(map(int, input().split()))# reads all array elements\n",
    "\n",
    "lr = d%n # main logic-gives rotation value which will b used in index posistioning-this returns remainder(always numerator will be less then denominator as denomiator is total elemnets)\n",
    "for i in range(n):\n",
    "    #print (numbers[(lr-n+i)%n]) # this print output in vertical line\n",
    "    print(numbers[(lr-n+i)%n], end = \" \") # this print output in horizantal line \n",
    "    \n"
   ]
  }
 ],
 "metadata": {
  "kernelspec": {
   "display_name": "Python 3",
   "language": "python",
   "name": "python3"
  },
  "language_info": {
   "codemirror_mode": {
    "name": "ipython",
    "version": 3
   },
   "file_extension": ".py",
   "mimetype": "text/x-python",
   "name": "python",
   "nbconvert_exporter": "python",
   "pygments_lexer": "ipython3",
   "version": "3.7.6"
  }
 },
 "nbformat": 4,
 "nbformat_minor": 4
}
