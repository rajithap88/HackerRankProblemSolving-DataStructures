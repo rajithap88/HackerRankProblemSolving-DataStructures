{
 "cells": [
  {
   "cell_type": "code",
   "execution_count": null,
   "metadata": {},
   "outputs": [],
   "source": [
    "The height of a binary tree is the number of edges between the tree's root and its furthest leaf. For example, the following binary tree is of height :\n",
    "\n",
    "Function Description\n",
    "\n",
    "Complete the getHeight or height function in the editor. It must return the height of a binary tree as an integer.\n",
    "\n",
    "getHeight or height has the following parameter(s):\n",
    "\n",
    "root: a reference to the root of a binary tree.\n",
    "Note -The Height of binary tree with single node is taken as zero.\n",
    "\n",
    "Input Format\n",
    "\n",
    "The first line contains an integer , the number of nodes in the tree.\n",
    "Next line contains  space separated integer where th integer denotes node[i].data.\n",
    "\n",
    "Note: Node values are inserted into a binary search tree before a reference to the tree's root node is passed to your function. In a binary search tree, all nodes on the left branch of a node are less than the node value. All values on the right branch are greater than the node value.\n",
    "\n",
    "Constraints\n",
    "\n",
    "\n",
    "\n",
    "Output Format\n",
    "\n",
    "Your function should return a single integer denoting the height of the binary tree."
   ]
  },
  {
   "cell_type": "code",
   "execution_count": null,
   "metadata": {},
   "outputs": [],
   "source": [
    "\n",
    "\n",
    "# Enter your code here. Read input from STDIN. Print output to STDOUT\n",
    "'''\n",
    "class Node:\n",
    "      def __init__(self,info): \n",
    "          self.info = info  \n",
    "          self.left = None  \n",
    "          self.right = None \n",
    "           \n",
    "\n",
    "       // this is a node of the tree , which contains info as data, left , right\n",
    "'''\n",
    "def height(root):\n",
    "    #print(\"root:\",root)\n",
    "    if root == None:\n",
    "        return -1\n",
    "    \n",
    "    # divide and conquer\n",
    "    \n",
    "    depth_left = height(root.left)\n",
    "    depth_right = height(root.right)\n",
    "    #print(\"left\",depth_left)#this value keep printing for every element in \n",
    "    #print(\"right\",depth_right)\n",
    "    depth = max(depth_left, depth_right) + 1\n",
    "    #print(\"depth\",depth)\n",
    "    # return the final result\n",
    "    return depth\n",
    "\n",
    "\n",
    "\n"
   ]
  }
 ],
 "metadata": {
  "kernelspec": {
   "display_name": "Python 3",
   "language": "python",
   "name": "python3"
  },
  "language_info": {
   "codemirror_mode": {
    "name": "ipython",
    "version": 3
   },
   "file_extension": ".py",
   "mimetype": "text/x-python",
   "name": "python",
   "nbconvert_exporter": "python",
   "pygments_lexer": "ipython3",
   "version": "3.7.6"
  }
 },
 "nbformat": 4,
 "nbformat_minor": 4
}
