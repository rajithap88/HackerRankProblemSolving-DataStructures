{
 "cells": [
  {
   "cell_type": "code",
   "execution_count": null,
   "metadata": {},
   "outputs": [],
   "source": [
    "his challenge is part of a MyCodeSchool tutorial track and is accompanied by a video lesson.\n",
    "\n",
    "This is an to practice traversing a linked list. Given a pointer to the head node of a linked list, print each node's  element, one per line. If the head pointer is null (indicating the list is empty), there is nothing to print.\n",
    "\n",
    "Function Description\n",
    "\n",
    "Complete the printLinkedList function in the editor below.\n",
    "\n",
    "printLinkedList has the following parameter(s):\n",
    "\n",
    "SinglyLinkedListNode head: a reference to the head of the list\n",
    "Print\n",
    "\n",
    "For each node, print its  value on a new line (console.log in Javascript).\n",
    "Input Format\n",
    "\n",
    "The first line of input contains , the number of elements in the linked list.\n",
    "The next  lines contain one element each, the  values for each node.\n",
    "\n",
    "Note: Do not read any input from stdin/console. Complete the printLinkedList function in the editor below.\n",
    "\n",
    "Constraints\n",
    "\n",
    ", where  is the  element of the linked list.\n",
    "Sample Input\n",
    "\n",
    "2\n",
    "16\n",
    "13\n",
    "Sample Output\n",
    "\n",
    "16\n",
    "13\n",
    "Explanation\n",
    "\n",
    "There are two elements in the linked list. They are represented as 16 -> 13 -> NULL. So, the printLinkedList function should print 16 and 13 each on a new line."
   ]
  },
  {
   "cell_type": "code",
   "execution_count": null,
   "metadata": {},
   "outputs": [],
   "source": [
    "\n",
    "\n",
    "# Complete the printLinkedList function below.\n",
    "\n",
    "#\n",
    "# For your reference:\n",
    "#\n",
    "# SinglyLinkedListNode:\n",
    "#     int data\n",
    "#     SinglyLinkedListNode next\n",
    "#\n",
    "#\n",
    "def printLinkedList(head):\n",
    "    curr = head\n",
    "    while(curr):\n",
    "        print(curr.data)\n",
    "        curr = curr.next\n",
    "\n"
   ]
  }
 ],
 "metadata": {
  "kernelspec": {
   "display_name": "Python 3",
   "language": "python",
   "name": "python3"
  },
  "language_info": {
   "codemirror_mode": {
    "name": "ipython",
    "version": 3
   },
   "file_extension": ".py",
   "mimetype": "text/x-python",
   "name": "python",
   "nbconvert_exporter": "python",
   "pygments_lexer": "ipython3",
   "version": "3.7.6"
  }
 },
 "nbformat": 4,
 "nbformat_minor": 4
}
