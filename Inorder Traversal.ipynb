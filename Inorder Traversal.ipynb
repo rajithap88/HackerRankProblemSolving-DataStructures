{
 "cells": [
  {
   "cell_type": "code",
   "execution_count": null,
   "metadata": {},
   "outputs": [],
   "source": [
    "In this challenge, you are required to implement inorder traversal of a tree.\n",
    "\n",
    "Complete the  function in your editor below, which has  parameter: a pointer to the root of a binary tree. It must print the values in the tree's inorder traversal as a single line of space-separated values.\n",
    "\n",
    "Input Format\n",
    "\n",
    "Our hidden tester code passes the root node of a binary tree to your $inOrder* function.\n",
    "\n",
    "Constraints\n",
    "\n",
    "       \n",
    "\n",
    "Output Format\n",
    "\n",
    "Print the tree's inorder traversal as a single line of space-separated values.\n",
    "\n",
    "Sample Input\n",
    "\n",
    "     1\n",
    "      \\\n",
    "       2\n",
    "        \\\n",
    "         5\n",
    "        /  \\\n",
    "       3    6\n",
    "        \\\n",
    "         4  \n",
    "Sample Output\n",
    "\n",
    "1 2 3 4 5 6 \n",
    "Explanation\n",
    "\n",
    "The tree's inorder traversal results in       as the required result."
   ]
  },
  {
   "cell_type": "code",
   "execution_count": null,
   "metadata": {},
   "outputs": [],
   "source": [
    "\n",
    "\n",
    "\"\"\"\n",
    "Node is defined as\n",
    "self.left (the left child of the node)\n",
    "self.right (the right child of the node)\n",
    "self.info (the value of the node)\n",
    "\"\"\"\n",
    "def inOrder(root):\n",
    "    #Write your code here\n",
    "    if root is None:\n",
    "        return\n",
    "    inOrder(root.left)\n",
    "    print (root, end= \" \")\n",
    "    inOrder(root.right)\n",
    "\n"
   ]
  }
 ],
 "metadata": {
  "kernelspec": {
   "display_name": "Python 3",
   "language": "python",
   "name": "python3"
  },
  "language_info": {
   "codemirror_mode": {
    "name": "ipython",
    "version": 3
   },
   "file_extension": ".py",
   "mimetype": "text/x-python",
   "name": "python",
   "nbconvert_exporter": "python",
   "pygments_lexer": "ipython3",
   "version": "3.7.6"
  }
 },
 "nbformat": 4,
 "nbformat_minor": 4
}
