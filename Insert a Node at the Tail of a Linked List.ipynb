{
 "cells": [
  {
   "cell_type": "code",
   "execution_count": null,
   "metadata": {},
   "outputs": [],
   "source": [
    "You are given the pointer to the head node of a linked list and an integer to add to the list. Create a new node with the given integer. Insert this node at the tail of the linked list and return the head node of the linked list formed after inserting this new node. The given head pointer may be null, meaning that the initial list is empty.\n",
    "\n",
    "Input Format\n",
    "\n",
    "You have to complete the SinglyLinkedListNode insertAtTail(SinglyLinkedListNode head, int data) method. It takes two arguments: the head of the linked list and the integer to insert at tail. You should not read any input from the stdin/console.\n",
    "\n",
    "The input is handled by code editor and is as follows:\n",
    "The first line contains an integer , denoting the elements of the linked list.\n",
    "The next  lines contain an integer each, denoting the element that needs to be inserted at tail.\n",
    "\n",
    "Constraints\n",
    "\n",
    "Output Format\n",
    "\n",
    "Insert the new node at the tail and just return the head of the updated linked list. Do not print anything to stdout/console.\n",
    "\n",
    "The output is handled by code in the editor and is as follows:\n",
    "Print the elements of the linked list from head to tail, each in a new line.\n",
    "\n",
    "Sample Input\n",
    "\n",
    "5\n",
    "141\n",
    "302\n",
    "164\n",
    "530\n",
    "474\n",
    "Sample Output\n",
    "\n",
    "141\n",
    "302\n",
    "164\n",
    "530\n",
    "474\n",
    "Explanation\n",
    "\n",
    "First the linked list is NULL. After inserting 141, the list is 141 -> NULL.\n",
    "After inserting 302, the list is 141 -> 302 -> NULL.\n",
    "After inserting 164, the list is 141 -> 302 -> 164 -> NULL.\n",
    "After inserting 530, the list is 141 -> 302 -> 164 -> 530 -> NULL. After inserting 474, the list is 141 -> 302 -> 164 -> 530 -> 474 -> NULL, which is the final list."
   ]
  },
  {
   "cell_type": "code",
   "execution_count": null,
   "metadata": {},
   "outputs": [],
   "source": [
    "\n",
    "\n",
    "# Complete the insertNodeAtTail function below.\n",
    "\n",
    "#\n",
    "# For your reference:\n",
    "#\n",
    "# SinglyLinkedListNode:\n",
    "#     int data\n",
    "#     SinglyLinkedListNode next\n",
    "#\n",
    "#\n",
    "\n",
    "\n",
    "def insertNodeAtTail(head, data):\n",
    "    \n",
    "\n",
    "        new_node = SinglyLinkedListNode(data)\n",
    "        if not head:\n",
    "            head = new_node\n",
    "            return head\n",
    "        curr_node = head\n",
    "        while(curr_node.next):\n",
    "            curr_node = curr_node.next\n",
    "        curr_node.next = new_node\n",
    "        return head\n",
    "\n"
   ]
  }
 ],
 "metadata": {
  "kernelspec": {
   "display_name": "Python 3",
   "language": "python",
   "name": "python3"
  },
  "language_info": {
   "codemirror_mode": {
    "name": "ipython",
    "version": 3
   },
   "file_extension": ".py",
   "mimetype": "text/x-python",
   "name": "python",
   "nbconvert_exporter": "python",
   "pygments_lexer": "ipython3",
   "version": "3.7.6"
  }
 },
 "nbformat": 4,
 "nbformat_minor": 4
}
