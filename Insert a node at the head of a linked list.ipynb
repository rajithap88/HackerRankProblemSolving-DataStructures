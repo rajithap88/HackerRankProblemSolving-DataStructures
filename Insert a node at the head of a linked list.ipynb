{
 "cells": [
  {
   "cell_type": "code",
   "execution_count": null,
   "metadata": {},
   "outputs": [],
   "source": [
    "Given a pointer to the head of a linked list, insert a new node before the head. The  value in the new node should point to  and the  value should be replaced with a given value. Return a reference to the new head of the list. The head pointer given may be null meaning that the initial list is empty.\n",
    "\n",
    "Function Description\n",
    "\n",
    "Complete the function insertNodeAtHead in the editor below.\n",
    "\n",
    "insertNodeAtHead has the following parameter(s):\n",
    "\n",
    "SinglyLinkedListNode llist: a reference to the head of a list\n",
    "data: the value to insert in the  field of the new node\n",
    "Input Format\n",
    "\n",
    "The first line contains an integer , the number of elements to be inserted at the head of the list.\n",
    "The next  lines contain an integer each, the elements to be inserted, one per function call.\n",
    "\n",
    "Constraints\n",
    "\n",
    "Sample Input\n",
    "\n",
    "5\n",
    "383\n",
    "484\n",
    "392\n",
    "975\n",
    "321\n",
    "Sample Output\n",
    "\n",
    "321\n",
    "975\n",
    "392\n",
    "484\n",
    "383\n",
    "Explanation\n",
    "\n",
    "Intially the list in NULL. After inserting 383, the list is 383 -> NULL.\n",
    "After inserting 484, the list is 484 -> 383 -> NULL.\n",
    "After inserting 392, the list is 392 -> 484 -> 383 -> NULL.\n",
    "After inserting 975, the list is 975 -> 392 -> 484 -> 383 -> NULL.\n",
    "After inserting 321, the list is 321 -> 975 -> 392 -> 484 -> 383 -> NULL."
   ]
  },
  {
   "cell_type": "code",
   "execution_count": null,
   "metadata": {},
   "outputs": [],
   "source": [
    "\n",
    "\n",
    "# Complete the insertNodeAtHead function below.\n",
    "\n",
    "#\n",
    "# For your reference:\n",
    "#\n",
    "# SinglyLinkedListNode:\n",
    "#     int data\n",
    "#     SinglyLinkedListNode next\n",
    "#\n",
    "#\n",
    "def insertNodeAtHead(head, data):\n",
    "    # Write your code here\n",
    "    new_node = SinglyLinkedListNode(data)\n",
    "    if not head:\n",
    "        head = new_node\n",
    "        return head\n",
    "    new_node.next = head\n",
    "    head = new_node\n",
    "    return head\n",
    "\n"
   ]
  }
 ],
 "metadata": {
  "kernelspec": {
   "display_name": "Python 3",
   "language": "python",
   "name": "python3"
  },
  "language_info": {
   "codemirror_mode": {
    "name": "ipython",
    "version": 3
   },
   "file_extension": ".py",
   "mimetype": "text/x-python",
   "name": "python",
   "nbconvert_exporter": "python",
   "pygments_lexer": "ipython3",
   "version": "3.7.6"
  }
 },
 "nbformat": 4,
 "nbformat_minor": 4
}
